{
 "cells": [
  {
   "cell_type": "markdown",
   "id": "7381f5c2-14fe-4299-adbb-8ac773743fc7",
   "metadata": {},
   "source": [
    "Question 1 answer"
   ]
  },
  {
   "cell_type": "code",
   "execution_count": 42,
   "id": "35fb35fc-06cb-4cfb-969d-77139374b7a8",
   "metadata": {},
   "outputs": [
    {
     "name": "stdout",
     "output_type": "stream",
     "text": [
      "54\n"
     ]
    }
   ],
   "source": [
    "sampleDict = {\n",
    "    \"Country\":{\n",
    "        \"Indian Cricket Team\":{\n",
    "            \"name\": [\"Rohit\", \"Virat\", \"Rahul\", \"Shami\", \"Bumrah\"],\n",
    "            \"Runs\": {\"Rohit\": 47, \"Virat\": 54, \"Rahul\": 66}}}}\n",
    "\n",
    "\"Virat\"\n",
    "print(sampleDict[\"Country\"][\"Indian Cricket Team\"] [\"Runs\"] [\"Virat\"])"
   ]
  },
  {
   "cell_type": "code",
   "execution_count": null,
   "id": "ca8a1e4a-b35e-4ae7-8bca-f7fdfcba034d",
   "metadata": {},
   "outputs": [],
   "source": [
    "Question 2 answer"
   ]
  },
  {
   "cell_type": "code",
   "execution_count": 22,
   "id": "7d66b87a-c0ca-41f0-aaa1-319c5fe98ef4",
   "metadata": {},
   "outputs": [
    {
     "name": "stdout",
     "output_type": "stream",
     "text": [
      "The value 2700 don't exist\n"
     ]
    }
   ],
   "source": [
    "sample_dict = {'a': 100, 'b': 2800, 'c': 300}\n",
    "if 2700 in sample_dict.values():\n",
    "          print(\"The value 2700 exists\")\n",
    "else:\n",
    "          print(\"The value 2700 don't exist\")\n",
    "\n"
   ]
  },
  {
   "cell_type": "markdown",
   "id": "0ff6a717-85f8-4731-be2c-b7f478f1d6c9",
   "metadata": {},
   "source": [
    "Question 3 answer"
   ]
  },
  {
   "cell_type": "code",
   "execution_count": 37,
   "id": "006eeaa7-c48d-40c5-8024-ad3a27e0e4a6",
   "metadata": {},
   "outputs": [
    {
     "name": "stdout",
     "output_type": "stream",
     "text": [
      "{'MSD', 'Surya', 'Siraj', 'Kapil', 'Sachin', 'Sehwag'}\n"
     ]
    }
   ],
   "source": [
    "sample_set = {\"Surya\", \"Kapil\", \"MSD\"}\n",
    "sample_list = [\"Sachin\", \"Siraj\", \"Sehwag\"]\n",
    "\n",
    "sample_set.update(sample_list)\n",
    "\n",
    "print(sample_set)\n"
   ]
  },
  {
   "cell_type": "markdown",
   "id": "bda9f345-4854-4920-95b9-4bd1e9ddb5ac",
   "metadata": {},
   "source": [
    "question 4"
   ]
  },
  {
   "cell_type": "code",
   "execution_count": 41,
   "id": "60b51cbd-fe57-4330-b7a9-bac735312ca5",
   "metadata": {},
   "outputs": [
    {
     "name": "stdout",
     "output_type": "stream",
     "text": [
      "{40, 50, 30}\n"
     ]
    }
   ],
   "source": [
    "set1 = {10, 20, 30 , 40 , 50}\n",
    "set2 = {30, 40, 50, 60, 70}\n",
    "\n",
    "combined_numbers = set1 & set2\n",
    "print(combined_numbers)"
   ]
  },
  {
   "cell_type": "markdown",
   "id": "ac4354fe-62a4-4f93-8794-b11f137aa54a",
   "metadata": {},
   "source": [
    "question 5"
   ]
  },
  {
   "cell_type": "code",
   "execution_count": 50,
   "id": "0392ae07-497a-4fd2-aff0-834a0f583b83",
   "metadata": {},
   "outputs": [
    {
     "ename": "TypeError",
     "evalue": "can't multiply sequence by non-int of type 'list'",
     "output_type": "error",
     "traceback": [
      "\u001b[1;31m---------------------------------------------------------------------------\u001b[0m",
      "\u001b[1;31mTypeError\u001b[0m                                 Traceback (most recent call last)",
      "Cell \u001b[1;32mIn[50], line 2\u001b[0m\n\u001b[0;32m      1\u001b[0m numbers \u001b[38;5;241m=\u001b[39m [\u001b[38;5;241m1\u001b[39m, \u001b[38;5;241m2\u001b[39m, \u001b[38;5;241m3\u001b[39m, \u001b[38;5;241m4\u001b[39m, \u001b[38;5;241m5\u001b[39m, \u001b[38;5;241m6\u001b[39m, \u001b[38;5;241m7\u001b[39m]\n\u001b[1;32m----> 2\u001b[0m squared_numbers \u001b[38;5;241m=\u001b[39m [ numbers \u001b[38;5;241m*\u001b[39m numbers]\n\u001b[0;32m      4\u001b[0m \u001b[38;5;28mprint\u001b[39m(squared_numbers)\n",
      "\u001b[1;31mTypeError\u001b[0m: can't multiply sequence by non-int of type 'list'"
     ]
    }
   ],
   "source": [
    "numbers = [1, 2, 3, 4, 5, 6, 7]\n",
    "squared_numbers = [ numbers * numbers]\n",
    "\n",
    "print(squared_numbers)\n"
   ]
  },
  {
   "cell_type": "markdown",
   "id": "d5259623-3e04-45f9-82b2-0e633dceaa0d",
   "metadata": {},
   "source": [
    "question 6"
   ]
  },
  {
   "cell_type": "code",
   "execution_count": null,
   "id": "01fc21c6-f23c-4d96-8b2b-6b45edb43864",
   "metadata": {},
   "outputs": [],
   "source": [
    "cant do it sorry i will practise"
   ]
  }
 ],
 "metadata": {
  "kernelspec": {
   "display_name": "Python 3 (ipykernel)",
   "language": "python",
   "name": "python3"
  },
  "language_info": {
   "codemirror_mode": {
    "name": "ipython",
    "version": 3
   },
   "file_extension": ".py",
   "mimetype": "text/x-python",
   "name": "python",
   "nbconvert_exporter": "python",
   "pygments_lexer": "ipython3",
   "version": "3.11.7"
  }
 },
 "nbformat": 4,
 "nbformat_minor": 5
}
